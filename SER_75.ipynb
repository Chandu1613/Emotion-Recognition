{
 "cells": [
  {
   "cell_type": "code",
   "execution_count": 2,
   "id": "5dc9fc68",
   "metadata": {},
   "outputs": [],
   "source": [
    "import numpy as np\n",
    "import pandas as pd\n",
    "import warnings\n",
    "import joblib\n",
    "\n",
    "from sklearn.metrics import classification_report, confusion_matrix\n",
    "from sklearn.preprocessing import LabelEncoder, StandardScaler\n",
    "from sklearn.utils.class_weight import compute_class_weight\n",
    "from sklearn.model_selection import train_test_split\n",
    "\n",
    "import tensorflow as tf\n",
    "from tensorflow.keras import layers, models, regularizers\n",
    "from tensorflow.keras.utils import to_categorical\n",
    "from tensorflow.keras.callbacks import EarlyStopping, ReduceLROnPlateau, ModelCheckpoint\n",
    "\n",
    "from data_loading import EmotionDatasetPreparer\n",
    "from preprocessing import AudioFeatureExtractor\n",
    "\n",
    "import seaborn as sns\n",
    "import matplotlib.pyplot as plt\n",
    "\n",
    "warnings.filterwarnings('ignore')\n",
    "AUTOTUNE = tf.data.AUTOTUNE\n",
    "rng = np.random.default_rng(42)"
   ]
  },
  {
   "cell_type": "code",
   "execution_count": 3,
   "id": "d7ac75a1",
   "metadata": {},
   "outputs": [],
   "source": [
    "def train_test_split_e(df, random_state=16):\n",
    "    \"\"\"\n",
    "    Split dataframe into train/val/test using emotion-based stratification.\n",
    "    \"\"\"\n",
    "    # First split into train+temp (val+test)\n",
    "    df_train, df_temp = train_test_split(\n",
    "        df,\n",
    "        test_size=0.3,\n",
    "        stratify=df['emotion'],\n",
    "        random_state=random_state\n",
    "    )\n",
    "    # Split temp into val and test\n",
    "    df_val, df_test = train_test_split(\n",
    "        df_temp,\n",
    "        test_size=0.5,\n",
    "        stratify=df_temp['emotion'],\n",
    "        random_state=random_state\n",
    "    )\n",
    "    return df_train.reset_index(drop=True), df_val.reset_index(drop=True), df_test.reset_index(drop=True)"
   ]
  },
  {
   "cell_type": "code",
   "execution_count": 4,
   "id": "5c6a4930",
   "metadata": {},
   "outputs": [
    {
     "name": "stdout",
     "output_type": "stream",
     "text": [
      "Loaded dataset shape: (15617, 2)\n"
     ]
    },
    {
     "data": {
      "text/html": [
       "<div>\n",
       "<style scoped>\n",
       "    .dataframe tbody tr th:only-of-type {\n",
       "        vertical-align: middle;\n",
       "    }\n",
       "\n",
       "    .dataframe tbody tr th {\n",
       "        vertical-align: top;\n",
       "    }\n",
       "\n",
       "    .dataframe thead th {\n",
       "        text-align: right;\n",
       "    }\n",
       "</style>\n",
       "<table border=\"1\" class=\"dataframe\">\n",
       "  <thead>\n",
       "    <tr style=\"text-align: right;\">\n",
       "      <th></th>\n",
       "      <th>file_path</th>\n",
       "      <th>emotion</th>\n",
       "    </tr>\n",
       "  </thead>\n",
       "  <tbody>\n",
       "    <tr>\n",
       "      <th>0</th>\n",
       "      <td>data/RAVDESS/Actor_01\\03-01-01-01-01-01-01.wav</td>\n",
       "      <td>neutral</td>\n",
       "    </tr>\n",
       "    <tr>\n",
       "      <th>1</th>\n",
       "      <td>data/RAVDESS/Actor_01\\03-01-01-01-01-02-01.wav</td>\n",
       "      <td>neutral</td>\n",
       "    </tr>\n",
       "    <tr>\n",
       "      <th>2</th>\n",
       "      <td>data/RAVDESS/Actor_01\\03-01-01-01-02-01-01.wav</td>\n",
       "      <td>neutral</td>\n",
       "    </tr>\n",
       "    <tr>\n",
       "      <th>3</th>\n",
       "      <td>data/RAVDESS/Actor_01\\03-01-01-01-02-02-01.wav</td>\n",
       "      <td>neutral</td>\n",
       "    </tr>\n",
       "    <tr>\n",
       "      <th>4</th>\n",
       "      <td>data/RAVDESS/Actor_01\\03-01-02-01-01-01-01.wav</td>\n",
       "      <td>neutral</td>\n",
       "    </tr>\n",
       "  </tbody>\n",
       "</table>\n",
       "</div>"
      ],
      "text/plain": [
       "                                        file_path  emotion\n",
       "0  data/RAVDESS/Actor_01\\03-01-01-01-01-01-01.wav  neutral\n",
       "1  data/RAVDESS/Actor_01\\03-01-01-01-01-02-01.wav  neutral\n",
       "2  data/RAVDESS/Actor_01\\03-01-01-01-02-01-01.wav  neutral\n",
       "3  data/RAVDESS/Actor_01\\03-01-01-01-02-02-01.wav  neutral\n",
       "4  data/RAVDESS/Actor_01\\03-01-02-01-01-01-01.wav  neutral"
      ]
     },
     "execution_count": 4,
     "metadata": {},
     "output_type": "execute_result"
    }
   ],
   "source": [
    "# Data Loading\n",
    "datasets = {\n",
    "    \"RAVDESS\": \"data/RAVDESS/\",\n",
    "    \"CREMA-D\": \"data/AudioWAV\",\n",
    "    \"TESS\": \"data/TESS/\",\n",
    "    \"EmoDB\": \"data/EmoDB/\",\n",
    "    \"IESC\": \"data/IESC/\"\n",
    "}\n",
    "preparer = EmotionDatasetPreparer(datasets)\n",
    "dfs = preparer.generate_csvs()\n",
    "df = preparer.merge_and_clean(dfs)\n",
    "print(\"Loaded dataset shape:\", df.shape)\n",
    "df.head()"
   ]
  },
  {
   "cell_type": "code",
   "execution_count": 5,
   "id": "df75dd79",
   "metadata": {},
   "outputs": [
    {
     "name": "stdout",
     "output_type": "stream",
     "text": [
      "Train samples: 10931\n",
      "Val samples: 2343\n",
      "Test samples: 2343\n"
     ]
    }
   ],
   "source": [
    "df_train, df_val, df_test = train_test_split_e(df)\n",
    "\n",
    "print(\"Train samples:\", len(df_train))\n",
    "print(\"Val samples:\", len(df_val))\n",
    "print(\"Test samples:\", len(df_test))"
   ]
  },
  {
   "cell_type": "code",
   "execution_count": 6,
   "id": "4daf4885",
   "metadata": {},
   "outputs": [
    {
     "name": "stdout",
     "output_type": "stream",
     "text": [
      "Extracting features...\n"
     ]
    },
    {
     "name": "stderr",
     "output_type": "stream",
     "text": [
      "  0%|          | 0/10931 [00:00<?, ?it/s]"
     ]
    },
    {
     "name": "stderr",
     "output_type": "stream",
     "text": [
      "100%|██████████| 10931/10931 [38:57<00:00,  4.68it/s]\n"
     ]
    },
    {
     "name": "stdout",
     "output_type": "stream",
     "text": [
      "Extracting features...\n"
     ]
    },
    {
     "name": "stderr",
     "output_type": "stream",
     "text": [
      "100%|██████████| 2343/2343 [05:09<00:00,  7.56it/s]\n"
     ]
    },
    {
     "name": "stdout",
     "output_type": "stream",
     "text": [
      "Extracting features...\n"
     ]
    },
    {
     "name": "stderr",
     "output_type": "stream",
     "text": [
      "100%|██████████| 2343/2343 [05:03<00:00,  7.72it/s]\n"
     ]
    },
    {
     "name": "stdout",
     "output_type": "stream",
     "text": [
      "Train Spectrogram features: (10931, 128, 200, 3)\n",
      "Train Prosodic features: (10931, 9)\n",
      "Train Labels shape: (10931,)\n"
     ]
    }
   ],
   "source": [
    "# Feature Extraction\n",
    "extractor = AudioFeatureExtractor(sample_rate=16000, n_mels=128, n_mfcc=40, max_len=200)\n",
    "\n",
    "X_spec_train, X_pros_train, y_train = extractor.process_dataframe(df_train)\n",
    "X_spec_val, X_pros_val, y_val = extractor.process_dataframe(df_val)\n",
    "X_spec_test, X_pros_test, y_test = extractor.process_dataframe(df_test)\n",
    "\n",
    "print(\"Train Spectrogram features:\", X_spec_train.shape)\n",
    "print(\"Train Prosodic features:\", X_pros_train.shape)\n",
    "print(\"Train Labels shape:\", y_train.shape)"
   ]
  },
  {
   "cell_type": "code",
   "execution_count": 7,
   "id": "73718bfc",
   "metadata": {},
   "outputs": [
    {
     "name": "stdout",
     "output_type": "stream",
     "text": [
      "Classes: [np.str_('angry'), np.str_('disgust'), np.str_('fear'), np.str_('happy'), np.str_('neutral'), np.str_('sad'), np.str_('surprised')]\n",
      "Shapes: (10931, 7) (2343, 7) (2343, 7)\n"
     ]
    },
    {
     "data": {
      "text/plain": [
       "['artifacts/label_encoder.pkl']"
      ]
     },
     "execution_count": 7,
     "metadata": {},
     "output_type": "execute_result"
    }
   ],
   "source": [
    "# Per-channel normalization for spectrograms (H, W, C)\n",
    "spec_mean = X_spec_train.mean(axis=(0,1,2), keepdims=True)\n",
    "spec_std  = X_spec_train.std(axis=(0,1,2), keepdims=True) + 1e-8\n",
    "X_spec_train = (X_spec_train - spec_mean)/spec_std\n",
    "X_spec_val   = (X_spec_val - spec_mean)/spec_std\n",
    "X_spec_test  = (X_spec_test - spec_mean)/spec_std\n",
    "\n",
    "np.save(\"artifacts/spec_mean.npy\", spec_mean)\n",
    "np.save(\"artifacts/spec_std.npy\", spec_std)\n",
    "\n",
    "# Prosodic normalization\n",
    "scaler = StandardScaler()\n",
    "X_pros_train_scaled = scaler.fit_transform(X_pros_train)\n",
    "X_pros_val_scaled = scaler.transform(X_pros_val)\n",
    "X_pros_test_scaled = scaler.transform(X_pros_test)\n",
    "\n",
    "\n",
    "# Encode labels\n",
    "le = LabelEncoder()\n",
    "le.fit(list(y_train) + list(y_val) + list(y_test))\n",
    "\n",
    "# Encode labels as integers\n",
    "y_train_idx = le.transform(y_train)\n",
    "y_val_idx   = le.transform(y_val)\n",
    "y_test_idx  = le.transform(y_test)\n",
    "\n",
    "# Convert to one-hot\n",
    "y_train_cat = to_categorical(y_train_idx)\n",
    "y_val_cat   = to_categorical(y_val_idx)\n",
    "y_test_cat  = to_categorical(y_test_idx)\n",
    "\n",
    "# Info\n",
    "num_classes = y_train_cat.shape[1]\n",
    "print(\"Classes:\", list(le.classes_))\n",
    "print(\"Shapes:\", y_train_cat.shape, y_val_cat.shape, y_test_cat.shape)\n",
    "\n",
    "joblib.dump(scaler, \"artifacts/pros_scaler.pkl\")\n",
    "joblib.dump(le, \"artifacts/label_encoder.pkl\")"
   ]
  },
  {
   "cell_type": "code",
   "execution_count": 9,
   "id": "b9268e74",
   "metadata": {},
   "outputs": [],
   "source": [
    "# Calculate class weights\n",
    "class_weights = compute_class_weight(\n",
    "    class_weight='balanced',\n",
    "    classes=np.unique(y_train_idx),\n",
    "    y=y_train_idx\n",
    ")\n",
    "class_weight_dict = dict(enumerate(class_weights))"
   ]
  },
  {
   "cell_type": "code",
   "execution_count": null,
   "id": "c46f7236",
   "metadata": {},
   "outputs": [
    {
     "name": "stdout",
     "output_type": "stream",
     "text": [
      "Epoch 1/70\n",
      "\u001b[1m342/342\u001b[0m \u001b[32m━━━━━━━━━━━━━━━━━━━━\u001b[0m\u001b[37m\u001b[0m \u001b[1m0s\u001b[0m 2s/step - accuracy: 0.2257 - loss: 1.8469\n",
      "Epoch 1: val_accuracy improved from None to 0.24456, saving model to cnn_stage1_model.keras\n",
      "\u001b[1m342/342\u001b[0m \u001b[32m━━━━━━━━━━━━━━━━━━━━\u001b[0m\u001b[37m\u001b[0m \u001b[1m845s\u001b[0m 2s/step - accuracy: 0.2926 - loss: 1.6758 - val_accuracy: 0.2446 - val_loss: 1.8053 - learning_rate: 0.0010\n",
      "Epoch 2/70\n",
      "\u001b[1m342/342\u001b[0m \u001b[32m━━━━━━━━━━━━━━━━━━━━\u001b[0m\u001b[37m\u001b[0m \u001b[1m0s\u001b[0m 2s/step - accuracy: 0.4249 - loss: 1.3850\n",
      "Epoch 2: val_accuracy improved from 0.24456 to 0.40205, saving model to cnn_stage1_model.keras\n",
      "\u001b[1m342/342\u001b[0m \u001b[32m━━━━━━━━━━━━━━━━━━━━\u001b[0m\u001b[37m\u001b[0m \u001b[1m829s\u001b[0m 2s/step - accuracy: 0.4558 - loss: 1.3298 - val_accuracy: 0.4020 - val_loss: 1.6223 - learning_rate: 0.0010\n",
      "Epoch 3/70\n",
      "\u001b[1m342/342\u001b[0m \u001b[32m━━━━━━━━━━━━━━━━━━━━\u001b[0m\u001b[37m\u001b[0m \u001b[1m0s\u001b[0m 2s/step - accuracy: 0.5134 - loss: 1.2012\n",
      "Epoch 3: val_accuracy improved from 0.40205 to 0.60094, saving model to cnn_stage1_model.keras\n",
      "\u001b[1m342/342\u001b[0m \u001b[32m━━━━━━━━━━━━━━━━━━━━\u001b[0m\u001b[37m\u001b[0m \u001b[1m829s\u001b[0m 2s/step - accuracy: 0.5290 - loss: 1.1736 - val_accuracy: 0.6009 - val_loss: 1.0922 - learning_rate: 0.0010\n",
      "Epoch 4/70\n",
      "\u001b[1m342/342\u001b[0m \u001b[32m━━━━━━━━━━━━━━━━━━━━\u001b[0m\u001b[37m\u001b[0m \u001b[1m0s\u001b[0m 2s/step - accuracy: 0.5677 - loss: 1.0871\n",
      "Epoch 4: val_accuracy improved from 0.60094 to 0.61502, saving model to cnn_stage1_model.keras\n",
      "\u001b[1m342/342\u001b[0m \u001b[32m━━━━━━━━━━━━━━━━━━━━\u001b[0m\u001b[37m\u001b[0m \u001b[1m832s\u001b[0m 2s/step - accuracy: 0.5715 - loss: 1.0715 - val_accuracy: 0.6150 - val_loss: 1.0617 - learning_rate: 0.0010\n",
      "Epoch 5/70\n",
      "\u001b[1m342/342\u001b[0m \u001b[32m━━━━━━━━━━━━━━━━━━━━\u001b[0m\u001b[37m\u001b[0m \u001b[1m0s\u001b[0m 2s/step - accuracy: 0.5911 - loss: 1.0237\n",
      "Epoch 5: val_accuracy improved from 0.61502 to 0.62015, saving model to cnn_stage1_model.keras\n",
      "\u001b[1m342/342\u001b[0m \u001b[32m━━━━━━━━━━━━━━━━━━━━\u001b[0m\u001b[37m\u001b[0m \u001b[1m832s\u001b[0m 2s/step - accuracy: 0.6009 - loss: 1.0130 - val_accuracy: 0.6201 - val_loss: 1.0005 - learning_rate: 0.0010\n",
      "Epoch 6/70\n",
      "\u001b[1m342/342\u001b[0m \u001b[32m━━━━━━━━━━━━━━━━━━━━\u001b[0m\u001b[37m\u001b[0m \u001b[1m0s\u001b[0m 2s/step - accuracy: 0.6255 - loss: 0.9533\n",
      "Epoch 6: val_accuracy improved from 0.62015 to 0.66923, saving model to cnn_stage1_model.keras\n",
      "\u001b[1m342/342\u001b[0m \u001b[32m━━━━━━━━━━━━━━━━━━━━\u001b[0m\u001b[37m\u001b[0m \u001b[1m831s\u001b[0m 2s/step - accuracy: 0.6186 - loss: 0.9703 - val_accuracy: 0.6692 - val_loss: 0.9126 - learning_rate: 0.0010\n",
      "Epoch 7/70\n",
      "\u001b[1m342/342\u001b[0m \u001b[32m━━━━━━━━━━━━━━━━━━━━\u001b[0m\u001b[37m\u001b[0m \u001b[1m0s\u001b[0m 2s/step - accuracy: 0.6357 - loss: 0.9415\n",
      "Epoch 7: val_accuracy did not improve from 0.66923\n",
      "\u001b[1m342/342\u001b[0m \u001b[32m━━━━━━━━━━━━━━━━━━━━\u001b[0m\u001b[37m\u001b[0m \u001b[1m828s\u001b[0m 2s/step - accuracy: 0.6343 - loss: 0.9401 - val_accuracy: 0.6667 - val_loss: 0.9247 - learning_rate: 0.0010\n",
      "Epoch 8/70\n",
      "\u001b[1m342/342\u001b[0m \u001b[32m━━━━━━━━━━━━━━━━━━━━\u001b[0m\u001b[37m\u001b[0m \u001b[1m0s\u001b[0m 2s/step - accuracy: 0.6500 - loss: 0.9096\n",
      "Epoch 8: val_accuracy improved from 0.66923 to 0.67947, saving model to cnn_stage1_model.keras\n",
      "\u001b[1m342/342\u001b[0m \u001b[32m━━━━━━━━━━━━━━━━━━━━\u001b[0m\u001b[37m\u001b[0m \u001b[1m828s\u001b[0m 2s/step - accuracy: 0.6483 - loss: 0.9070 - val_accuracy: 0.6795 - val_loss: 0.9220 - learning_rate: 0.0010\n",
      "Epoch 9/70\n",
      "\u001b[1m342/342\u001b[0m \u001b[32m━━━━━━━━━━━━━━━━━━━━\u001b[0m\u001b[37m\u001b[0m \u001b[1m0s\u001b[0m 2s/step - accuracy: 0.6616 - loss: 0.8798\n",
      "Epoch 9: val_accuracy did not improve from 0.67947\n",
      "\u001b[1m342/342\u001b[0m \u001b[32m━━━━━━━━━━━━━━━━━━━━\u001b[0m\u001b[37m\u001b[0m \u001b[1m829s\u001b[0m 2s/step - accuracy: 0.6565 - loss: 0.8811 - val_accuracy: 0.6761 - val_loss: 0.9092 - learning_rate: 0.0010\n",
      "Epoch 10/70\n",
      "\u001b[1m342/342\u001b[0m \u001b[32m━━━━━━━━━━━━━━━━━━━━\u001b[0m\u001b[37m\u001b[0m \u001b[1m0s\u001b[0m 2s/step - accuracy: 0.6576 - loss: 0.8922\n",
      "Epoch 10: val_accuracy did not improve from 0.67947\n",
      "\u001b[1m342/342\u001b[0m \u001b[32m━━━━━━━━━━━━━━━━━━━━\u001b[0m\u001b[37m\u001b[0m \u001b[1m830s\u001b[0m 2s/step - accuracy: 0.6611 - loss: 0.8857 - val_accuracy: 0.6637 - val_loss: 0.9374 - learning_rate: 0.0010\n",
      "Epoch 11/70\n",
      "\u001b[1m342/342\u001b[0m \u001b[32m━━━━━━━━━━━━━━━━━━━━\u001b[0m\u001b[37m\u001b[0m \u001b[1m0s\u001b[0m 2s/step - accuracy: 0.6795 - loss: 0.8450\n",
      "Epoch 11: val_accuracy did not improve from 0.67947\n",
      "\u001b[1m342/342\u001b[0m \u001b[32m━━━━━━━━━━━━━━━━━━━━\u001b[0m\u001b[37m\u001b[0m \u001b[1m828s\u001b[0m 2s/step - accuracy: 0.6764 - loss: 0.8488 - val_accuracy: 0.6176 - val_loss: 1.0651 - learning_rate: 0.0010\n",
      "Epoch 12/70\n",
      "\u001b[1m342/342\u001b[0m \u001b[32m━━━━━━━━━━━━━━━━━━━━\u001b[0m\u001b[37m\u001b[0m \u001b[1m0s\u001b[0m 2s/step - accuracy: 0.6922 - loss: 0.8124\n",
      "Epoch 12: val_accuracy did not improve from 0.67947\n",
      "\u001b[1m342/342\u001b[0m \u001b[32m━━━━━━━━━━━━━━━━━━━━\u001b[0m\u001b[37m\u001b[0m \u001b[1m832s\u001b[0m 2s/step - accuracy: 0.6843 - loss: 0.8317 - val_accuracy: 0.6671 - val_loss: 0.9728 - learning_rate: 0.0010\n",
      "Epoch 13/70\n",
      "\u001b[1m342/342\u001b[0m \u001b[32m━━━━━━━━━━━━━━━━━━━━\u001b[0m\u001b[37m\u001b[0m \u001b[1m0s\u001b[0m 2s/step - accuracy: 0.6976 - loss: 0.7968\n",
      "Epoch 13: val_accuracy improved from 0.67947 to 0.70252, saving model to cnn_stage1_model.keras\n",
      "\u001b[1m342/342\u001b[0m \u001b[32m━━━━━━━━━━━━━━━━━━━━\u001b[0m\u001b[37m\u001b[0m \u001b[1m832s\u001b[0m 2s/step - accuracy: 0.7037 - loss: 0.7816 - val_accuracy: 0.7025 - val_loss: 0.8351 - learning_rate: 5.0000e-04\n",
      "Epoch 14/70\n",
      "\u001b[1m342/342\u001b[0m \u001b[32m━━━━━━━━━━━━━━━━━━━━\u001b[0m\u001b[37m\u001b[0m \u001b[1m0s\u001b[0m 2s/step - accuracy: 0.7234 - loss: 0.7470\n",
      "Epoch 14: val_accuracy improved from 0.70252 to 0.72215, saving model to cnn_stage1_model.keras\n",
      "\u001b[1m342/342\u001b[0m \u001b[32m━━━━━━━━━━━━━━━━━━━━\u001b[0m\u001b[37m\u001b[0m \u001b[1m835s\u001b[0m 2s/step - accuracy: 0.7154 - loss: 0.7625 - val_accuracy: 0.7222 - val_loss: 0.8125 - learning_rate: 5.0000e-04\n",
      "Epoch 15/70\n",
      "\u001b[1m342/342\u001b[0m \u001b[32m━━━━━━━━━━━━━━━━━━━━\u001b[0m\u001b[37m\u001b[0m \u001b[1m0s\u001b[0m 2s/step - accuracy: 0.7303 - loss: 0.7493\n",
      "Epoch 15: val_accuracy did not improve from 0.72215\n",
      "\u001b[1m342/342\u001b[0m \u001b[32m━━━━━━━━━━━━━━━━━━━━\u001b[0m\u001b[37m\u001b[0m \u001b[1m832s\u001b[0m 2s/step - accuracy: 0.7238 - loss: 0.7507 - val_accuracy: 0.7175 - val_loss: 0.8059 - learning_rate: 5.0000e-04\n",
      "Epoch 16/70\n",
      "\u001b[1m342/342\u001b[0m \u001b[32m━━━━━━━━━━━━━━━━━━━━\u001b[0m\u001b[37m\u001b[0m \u001b[1m0s\u001b[0m 2s/step - accuracy: 0.7285 - loss: 0.7403\n",
      "Epoch 16: val_accuracy improved from 0.72215 to 0.72429, saving model to cnn_stage1_model.keras\n",
      "\u001b[1m342/342\u001b[0m \u001b[32m━━━━━━━━━━━━━━━━━━━━\u001b[0m\u001b[37m\u001b[0m \u001b[1m833s\u001b[0m 2s/step - accuracy: 0.7331 - loss: 0.7352 - val_accuracy: 0.7243 - val_loss: 0.8045 - learning_rate: 5.0000e-04\n",
      "Epoch 17/70\n",
      "\u001b[1m342/342\u001b[0m \u001b[32m━━━━━━━━━━━━━━━━━━━━\u001b[0m\u001b[37m\u001b[0m \u001b[1m0s\u001b[0m 2s/step - accuracy: 0.7423 - loss: 0.7032\n",
      "Epoch 17: val_accuracy improved from 0.72429 to 0.73367, saving model to cnn_stage1_model.keras\n",
      "\u001b[1m342/342\u001b[0m \u001b[32m━━━━━━━━━━━━━━━━━━━━\u001b[0m\u001b[37m\u001b[0m \u001b[1m830s\u001b[0m 2s/step - accuracy: 0.7326 - loss: 0.7235 - val_accuracy: 0.7337 - val_loss: 0.8081 - learning_rate: 5.0000e-04\n",
      "Epoch 18/70\n",
      "\u001b[1m342/342\u001b[0m \u001b[32m━━━━━━━━━━━━━━━━━━━━\u001b[0m\u001b[37m\u001b[0m \u001b[1m0s\u001b[0m 2s/step - accuracy: 0.7404 - loss: 0.7101\n",
      "Epoch 18: val_accuracy did not improve from 0.73367\n",
      "\u001b[1m342/342\u001b[0m \u001b[32m━━━━━━━━━━━━━━━━━━━━\u001b[0m\u001b[37m\u001b[0m \u001b[1m834s\u001b[0m 2s/step - accuracy: 0.7363 - loss: 0.7204 - val_accuracy: 0.7332 - val_loss: 0.7839 - learning_rate: 5.0000e-04\n",
      "Epoch 19/70\n",
      "\u001b[1m342/342\u001b[0m \u001b[32m━━━━━━━━━━━━━━━━━━━━\u001b[0m\u001b[37m\u001b[0m \u001b[1m0s\u001b[0m 2s/step - accuracy: 0.7412 - loss: 0.6881\n",
      "Epoch 19: val_accuracy did not improve from 0.73367\n",
      "\u001b[1m342/342\u001b[0m \u001b[32m━━━━━━━━━━━━━━━━━━━━\u001b[0m\u001b[37m\u001b[0m \u001b[1m834s\u001b[0m 2s/step - accuracy: 0.7391 - loss: 0.7004 - val_accuracy: 0.7303 - val_loss: 0.7851 - learning_rate: 5.0000e-04\n",
      "Epoch 20/70\n",
      "\u001b[1m342/342\u001b[0m \u001b[32m━━━━━━━━━━━━━━━━━━━━\u001b[0m\u001b[37m\u001b[0m \u001b[1m0s\u001b[0m 2s/step - accuracy: 0.7544 - loss: 0.6823\n",
      "Epoch 20: val_accuracy did not improve from 0.73367\n",
      "\u001b[1m342/342\u001b[0m \u001b[32m━━━━━━━━━━━━━━━━━━━━\u001b[0m\u001b[37m\u001b[0m \u001b[1m835s\u001b[0m 2s/step - accuracy: 0.7513 - loss: 0.6925 - val_accuracy: 0.7187 - val_loss: 0.8269 - learning_rate: 5.0000e-04\n",
      "Epoch 21/70\n",
      "\u001b[1m342/342\u001b[0m \u001b[32m━━━━━━━━━━━━━━━━━━━━\u001b[0m\u001b[37m\u001b[0m \u001b[1m0s\u001b[0m 2s/step - accuracy: 0.7525 - loss: 0.6677\n",
      "Epoch 21: val_accuracy did not improve from 0.73367\n",
      "\u001b[1m342/342\u001b[0m \u001b[32m━━━━━━━━━━━━━━━━━━━━\u001b[0m\u001b[37m\u001b[0m \u001b[1m4028s\u001b[0m 12s/step - accuracy: 0.7522 - loss: 0.6737 - val_accuracy: 0.7277 - val_loss: 0.8041 - learning_rate: 5.0000e-04\n",
      "Epoch 22/70\n",
      "\u001b[1m342/342\u001b[0m \u001b[32m━━━━━━━━━━━━━━━━━━━━\u001b[0m\u001b[37m\u001b[0m \u001b[1m0s\u001b[0m 2s/step - accuracy: 0.7630 - loss: 0.6450\n",
      "Epoch 22: val_accuracy improved from 0.73367 to 0.74648, saving model to cnn_stage1_model.keras\n",
      "\u001b[1m342/342\u001b[0m \u001b[32m━━━━━━━━━━━━━━━━━━━━\u001b[0m\u001b[37m\u001b[0m \u001b[1m832s\u001b[0m 2s/step - accuracy: 0.7651 - loss: 0.6421 - val_accuracy: 0.7465 - val_loss: 0.7728 - learning_rate: 2.5000e-04\n",
      "Epoch 23/70\n",
      "\u001b[1m342/342\u001b[0m \u001b[32m━━━━━━━━━━━━━━━━━━━━\u001b[0m\u001b[37m\u001b[0m \u001b[1m0s\u001b[0m 2s/step - accuracy: 0.7786 - loss: 0.6207\n",
      "Epoch 23: val_accuracy improved from 0.74648 to 0.75160, saving model to cnn_stage1_model.keras\n",
      "\u001b[1m342/342\u001b[0m \u001b[32m━━━━━━━━━━━━━━━━━━━━\u001b[0m\u001b[37m\u001b[0m \u001b[1m837s\u001b[0m 2s/step - accuracy: 0.7757 - loss: 0.6227 - val_accuracy: 0.7516 - val_loss: 0.7840 - learning_rate: 2.5000e-04\n",
      "Epoch 24/70\n",
      "\u001b[1m342/342\u001b[0m \u001b[32m━━━━━━━━━━━━━━━━━━━━\u001b[0m\u001b[37m\u001b[0m \u001b[1m0s\u001b[0m 2s/step - accuracy: 0.7811 - loss: 0.6143\n",
      "Epoch 24: val_accuracy did not improve from 0.75160\n",
      "\u001b[1m342/342\u001b[0m \u001b[32m━━━━━━━━━━━━━━━━━━━━\u001b[0m\u001b[37m\u001b[0m \u001b[1m829s\u001b[0m 2s/step - accuracy: 0.7816 - loss: 0.6109 - val_accuracy: 0.7375 - val_loss: 0.7909 - learning_rate: 2.5000e-04\n",
      "Epoch 25/70\n",
      "\u001b[1m342/342\u001b[0m \u001b[32m━━━━━━━━━━━━━━━━━━━━\u001b[0m\u001b[37m\u001b[0m \u001b[1m0s\u001b[0m 2s/step - accuracy: 0.7850 - loss: 0.6028\n",
      "Epoch 25: val_accuracy did not improve from 0.75160\n",
      "\u001b[1m342/342\u001b[0m \u001b[32m━━━━━━━━━━━━━━━━━━━━\u001b[0m\u001b[37m\u001b[0m \u001b[1m834s\u001b[0m 2s/step - accuracy: 0.7791 - loss: 0.6114 - val_accuracy: 0.7379 - val_loss: 0.8394 - learning_rate: 2.5000e-04\n",
      "Epoch 26/70\n",
      "\u001b[1m342/342\u001b[0m \u001b[32m━━━━━━━━━━━━━━━━━━━━\u001b[0m\u001b[37m\u001b[0m \u001b[1m0s\u001b[0m 2s/step - accuracy: 0.7902 - loss: 0.5883\n",
      "Epoch 26: val_accuracy did not improve from 0.75160\n",
      "\u001b[1m342/342\u001b[0m \u001b[32m━━━━━━━━━━━━━━━━━━━━\u001b[0m\u001b[37m\u001b[0m \u001b[1m843s\u001b[0m 2s/step - accuracy: 0.7934 - loss: 0.5843 - val_accuracy: 0.7490 - val_loss: 0.7778 - learning_rate: 1.2500e-04\n",
      "Epoch 27/70\n",
      "\u001b[1m342/342\u001b[0m \u001b[32m━━━━━━━━━━━━━━━━━━━━\u001b[0m\u001b[37m\u001b[0m \u001b[1m0s\u001b[0m 2s/step - accuracy: 0.8077 - loss: 0.5538\n",
      "Epoch 27: val_accuracy did not improve from 0.75160\n",
      "\u001b[1m342/342\u001b[0m \u001b[32m━━━━━━━━━━━━━━━━━━━━\u001b[0m\u001b[37m\u001b[0m \u001b[1m842s\u001b[0m 2s/step - accuracy: 0.7998 - loss: 0.5655 - val_accuracy: 0.7439 - val_loss: 0.8241 - learning_rate: 1.2500e-04\n",
      "Epoch 28/70\n",
      "\u001b[1m342/342\u001b[0m \u001b[32m━━━━━━━━━━━━━━━━━━━━\u001b[0m\u001b[37m\u001b[0m \u001b[1m0s\u001b[0m 2s/step - accuracy: 0.7981 - loss: 0.5729\n",
      "Epoch 28: val_accuracy did not improve from 0.75160\n",
      "\u001b[1m342/342\u001b[0m \u001b[32m━━━━━━━━━━━━━━━━━━━━\u001b[0m\u001b[37m\u001b[0m \u001b[1m837s\u001b[0m 2s/step - accuracy: 0.7959 - loss: 0.5728 - val_accuracy: 0.7512 - val_loss: 0.7978 - learning_rate: 1.2500e-04\n"
     ]
    }
   ],
   "source": [
    "# Stage 1: Train Spectrogram CNN\n",
    "\n",
    "def build_cnn_spec_model(input_shape, num_classes, l2_reg=5e-5, filters=[32,64,128], dropout=0.3):\n",
    "    spec_input = layers.Input(shape=input_shape)\n",
    "    x = layers.Conv2D(filters[0], (3,3), padding='same', activation='relu',\n",
    "                      kernel_regularizer=regularizers.l2(l2_reg))(spec_input)\n",
    "    x = layers.BatchNormalization()(x)\n",
    "    \n",
    "    for f in filters:\n",
    "        shortcut = x\n",
    "        if shortcut.shape[-1] != f:\n",
    "            shortcut = layers.Conv2D(f, (1,1), padding='same', kernel_regularizer=regularizers.l2(l2_reg))(shortcut)\n",
    "            shortcut = layers.BatchNormalization()(shortcut)\n",
    "        x = layers.Conv2D(f, (3,3), padding='same', activation='relu', kernel_regularizer=regularizers.l2(l2_reg))(x)\n",
    "        x = layers.BatchNormalization()(x)\n",
    "        x = layers.Conv2D(f, (3,3), padding='same', activation='relu', kernel_regularizer=regularizers.l2(l2_reg))(x)\n",
    "        x = layers.BatchNormalization()(x)\n",
    "        x = layers.Add()([shortcut, x])\n",
    "        x = layers.Activation('relu')(x)\n",
    "        x = layers.MaxPooling2D((2,2))(x)\n",
    "        x = layers.Dropout(dropout)(x)\n",
    "    \n",
    "    x = layers.GlobalAveragePooling2D()(x)\n",
    "    x = layers.Dense(256, activation='relu', kernel_regularizer=regularizers.l2(l2_reg))(x)\n",
    "    x = layers.Dropout(dropout)(x)\n",
    "    x = layers.Dense(128, activation='relu', kernel_regularizer=regularizers.l2(l2_reg))(x)\n",
    "    x = layers.Dropout(dropout)(x)\n",
    "    \n",
    "    output = layers.Dense(num_classes, activation='softmax')(x)\n",
    "    model = models.Model(inputs=spec_input, outputs=output)\n",
    "    model.compile(optimizer=tf.keras.optimizers.Adam(learning_rate=1e-3), loss=\"categorical_crossentropy\", metrics=[\"accuracy\"])\n",
    "    return model\n",
    "\n",
    "# Train Stage 1 CNN\n",
    "cnn_model = build_cnn_spec_model(X_spec_train.shape[1:], num_classes=num_classes)\n",
    "es = EarlyStopping(monitor=\"val_accuracy\", patience=5, restore_best_weights=True)\n",
    "rlr = ReduceLROnPlateau(monitor=\"val_loss\", factor=0.5, patience=3)\n",
    "mc = ModelCheckpoint(\"cnn_stage1_model.keras\", monitor=\"val_accuracy\", save_best_only=True, verbose=1)\n",
    "\n",
    "history = cnn_model.fit(\n",
    "    X_spec_train, \n",
    "    y_train_cat,\n",
    "    validation_data=(X_spec_val, y_val_cat),\n",
    "    batch_size=32, epochs=70,\n",
    "    callbacks=[es, rlr, mc],\n",
    "     class_weight=class_weight_dict\n",
    ")"
   ]
  },
  {
   "cell_type": "code",
   "execution_count": null,
   "id": "357aaff5",
   "metadata": {},
   "outputs": [
    {
     "name": "stdout",
     "output_type": "stream",
     "text": [
      "\u001b[1m74/74\u001b[0m \u001b[32m━━━━━━━━━━━━━━━━━━━━\u001b[0m\u001b[37m\u001b[0m \u001b[1m38s\u001b[0m 506ms/step\n"
     ]
    },
    {
     "data": {
      "image/png": "[encoded data removed]",
      "text/plain": [
       "<Figure size 800x600 with 2 Axes>"
      ]
     },
     "metadata": {},
     "output_type": "display_data"
    }
   ],
   "source": [
    "y_pred_cnn = cnn_model.predict(X_spec_test)\n",
    "y_pred_labels_cnn = np.argmax(y_pred_cnn, axis=1)\n",
    "y_true_labels_cnn = np.argmax(y_test_cat, axis=1)\n",
    "\n",
    "cm_cnn = confusion_matrix(y_true_labels_cnn, y_pred_labels_cnn)\n",
    "plt.figure(figsize=(8,6))\n",
    "sns.heatmap(cm_cnn, annot=True, fmt='d', cmap='Blues',\n",
    "            xticklabels=le.classes_, yticklabels=le.classes_)\n",
    "plt.xlabel('Predicted')\n",
    "plt.ylabel('True')\n",
    "plt.title('Stage 1 CNN Confusion Matrix')\n",
    "plt.show()"
   ]
  },
  {
   "cell_type": "code",
   "execution_count": 17,
   "id": "ff120044",
   "metadata": {},
   "outputs": [
    {
     "name": "stdout",
     "output_type": "stream",
     "text": [
      "Stage 1 CNN Classification Report:\n",
      "              precision    recall  f1-score   support\n",
      "\n",
      "       angry       0.78      0.85      0.81       376\n",
      "     disgust       0.75      0.66      0.70       347\n",
      "        fear       0.68      0.69      0.69       368\n",
      "       happy       0.69      0.68      0.69       368\n",
      "     neutral       0.70      0.78      0.74       369\n",
      "         sad       0.73      0.66      0.70       366\n",
      "   surprised       0.95      0.99      0.97       149\n",
      "\n",
      "    accuracy                           0.74      2343\n",
      "   macro avg       0.76      0.76      0.76      2343\n",
      "weighted avg       0.74      0.74      0.74      2343\n",
      "\n"
     ]
    }
   ],
   "source": [
    "print(\"Stage 1 CNN Classification Report:\")\n",
    "print(classification_report(y_true_labels_cnn, y_pred_labels_cnn, target_names=le.classes_))"
   ]
  },
  {
   "cell_type": "code",
   "execution_count": 12,
   "id": "ad1b0ff6",
   "metadata": {},
   "outputs": [
    {
     "name": "stdout",
     "output_type": "stream",
     "text": [
      "Epoch 1/50\n",
      "\u001b[1m342/342\u001b[0m \u001b[32m━━━━━━━━━━━━━━━━━━━━\u001b[0m\u001b[37m\u001b[0m \u001b[1m0s\u001b[0m 534ms/step - accuracy: 0.6220 - loss: 1.0205\n",
      "Epoch 1: val_accuracy improved from None to 0.75075, saving model to hybrid_ser_model.keras\n",
      "\u001b[1m342/342\u001b[0m \u001b[32m━━━━━━━━━━━━━━━━━━━━\u001b[0m\u001b[37m\u001b[0m \u001b[1m237s\u001b[0m 682ms/step - accuracy: 0.7187 - loss: 0.7705 - val_accuracy: 0.7507 - val_loss: 0.7556 - learning_rate: 0.0010\n",
      "Epoch 2/50\n",
      "\u001b[1m342/342\u001b[0m \u001b[32m━━━━━━━━━━━━━━━━━━━━\u001b[0m\u001b[37m\u001b[0m \u001b[1m0s\u001b[0m 529ms/step - accuracy: 0.7768 - loss: 0.6008\n",
      "Epoch 2: val_accuracy did not improve from 0.75075\n",
      "\u001b[1m342/342\u001b[0m \u001b[32m━━━━━━━━━━━━━━━━━━━━\u001b[0m\u001b[37m\u001b[0m \u001b[1m216s\u001b[0m 633ms/step - accuracy: 0.7800 - loss: 0.5935 - val_accuracy: 0.7469 - val_loss: 0.7565 - learning_rate: 0.0010\n",
      "Epoch 3/50\n",
      "\u001b[1m342/342\u001b[0m \u001b[32m━━━━━━━━━━━━━━━━━━━━\u001b[0m\u001b[37m\u001b[0m \u001b[1m0s\u001b[0m 523ms/step - accuracy: 0.7876 - loss: 0.5777\n",
      "Epoch 3: val_accuracy improved from 0.75075 to 0.75416, saving model to hybrid_ser_model.keras\n",
      "\u001b[1m342/342\u001b[0m \u001b[32m━━━━━━━━━━━━━━━━━━━━\u001b[0m\u001b[37m\u001b[0m \u001b[1m215s\u001b[0m 629ms/step - accuracy: 0.7900 - loss: 0.5703 - val_accuracy: 0.7542 - val_loss: 0.7619 - learning_rate: 0.0010\n",
      "Epoch 4/50\n",
      "\u001b[1m342/342\u001b[0m \u001b[32m━━━━━━━━━━━━━━━━━━━━\u001b[0m\u001b[37m\u001b[0m \u001b[1m0s\u001b[0m 530ms/step - accuracy: 0.7956 - loss: 0.5524\n",
      "Epoch 4: val_accuracy did not improve from 0.75416\n",
      "\u001b[1m342/342\u001b[0m \u001b[32m━━━━━━━━━━━━━━━━━━━━\u001b[0m\u001b[37m\u001b[0m \u001b[1m217s\u001b[0m 634ms/step - accuracy: 0.7932 - loss: 0.5566 - val_accuracy: 0.7512 - val_loss: 0.7622 - learning_rate: 0.0010\n",
      "Epoch 5/50\n",
      "\u001b[1m342/342\u001b[0m \u001b[32m━━━━━━━━━━━━━━━━━━━━\u001b[0m\u001b[37m\u001b[0m \u001b[1m0s\u001b[0m 523ms/step - accuracy: 0.8030 - loss: 0.5331\n",
      "Epoch 5: val_accuracy improved from 0.75416 to 0.75630, saving model to hybrid_ser_model.keras\n",
      "\u001b[1m342/342\u001b[0m \u001b[32m━━━━━━━━━━━━━━━━━━━━\u001b[0m\u001b[37m\u001b[0m \u001b[1m215s\u001b[0m 629ms/step - accuracy: 0.7941 - loss: 0.5487 - val_accuracy: 0.7563 - val_loss: 0.7531 - learning_rate: 5.0000e-04\n",
      "Epoch 6/50\n",
      "\u001b[1m342/342\u001b[0m \u001b[32m━━━━━━━━━━━━━━━━━━━━\u001b[0m\u001b[37m\u001b[0m \u001b[1m0s\u001b[0m 533ms/step - accuracy: 0.7970 - loss: 0.5438\n",
      "Epoch 6: val_accuracy did not improve from 0.75630\n",
      "\u001b[1m342/342\u001b[0m \u001b[32m━━━━━━━━━━━━━━━━━━━━\u001b[0m\u001b[37m\u001b[0m \u001b[1m221s\u001b[0m 646ms/step - accuracy: 0.7977 - loss: 0.5472 - val_accuracy: 0.7542 - val_loss: 0.7634 - learning_rate: 5.0000e-04\n",
      "Epoch 7/50\n",
      "\u001b[1m342/342\u001b[0m \u001b[32m━━━━━━━━━━━━━━━━━━━━\u001b[0m\u001b[37m\u001b[0m \u001b[1m0s\u001b[0m 553ms/step - accuracy: 0.7906 - loss: 0.5619\n",
      "Epoch 7: val_accuracy did not improve from 0.75630\n",
      "\u001b[1m342/342\u001b[0m \u001b[32m━━━━━━━━━━━━━━━━━━━━\u001b[0m\u001b[37m\u001b[0m \u001b[1m226s\u001b[0m 662ms/step - accuracy: 0.7932 - loss: 0.5450 - val_accuracy: 0.7537 - val_loss: 0.7685 - learning_rate: 5.0000e-04\n",
      "Epoch 8/50\n",
      "\u001b[1m342/342\u001b[0m \u001b[32m━━━━━━━━━━━━━━━━━━━━\u001b[0m\u001b[37m\u001b[0m \u001b[1m0s\u001b[0m 549ms/step - accuracy: 0.7882 - loss: 0.5497\n",
      "Epoch 8: val_accuracy did not improve from 0.75630\n",
      "\u001b[1m342/342\u001b[0m \u001b[32m━━━━━━━━━━━━━━━━━━━━\u001b[0m\u001b[37m\u001b[0m \u001b[1m225s\u001b[0m 657ms/step - accuracy: 0.7932 - loss: 0.5423 - val_accuracy: 0.7512 - val_loss: 0.7627 - learning_rate: 5.0000e-04\n",
      "Epoch 9/50\n",
      "\u001b[1m342/342\u001b[0m \u001b[32m━━━━━━━━━━━━━━━━━━━━\u001b[0m\u001b[37m\u001b[0m \u001b[1m0s\u001b[0m 542ms/step - accuracy: 0.8024 - loss: 0.5204\n",
      "Epoch 9: val_accuracy did not improve from 0.75630\n",
      "\u001b[1m342/342\u001b[0m \u001b[32m━━━━━━━━━━━━━━━━━━━━\u001b[0m\u001b[37m\u001b[0m \u001b[1m222s\u001b[0m 649ms/step - accuracy: 0.7964 - loss: 0.5388 - val_accuracy: 0.7554 - val_loss: 0.7611 - learning_rate: 2.5000e-04\n",
      "Epoch 10/50\n",
      "\u001b[1m342/342\u001b[0m \u001b[32m━━━━━━━━━━━━━━━━━━━━\u001b[0m\u001b[37m\u001b[0m \u001b[1m0s\u001b[0m 545ms/step - accuracy: 0.7991 - loss: 0.5333\n",
      "Epoch 10: val_accuracy did not improve from 0.75630\n",
      "\u001b[1m342/342\u001b[0m \u001b[32m━━━━━━━━━━━━━━━━━━━━\u001b[0m\u001b[37m\u001b[0m \u001b[1m223s\u001b[0m 653ms/step - accuracy: 0.7982 - loss: 0.5385 - val_accuracy: 0.7537 - val_loss: 0.7610 - learning_rate: 2.5000e-04\n"
     ]
    }
   ],
   "source": [
    "# Stage 2: Hybrid CNN + Prosodic MLP\n",
    "cnn_model = build_cnn_spec_model(X_spec_train.shape[1:], num_classes=num_classes)\n",
    "cnn_model.load_weights(\"cnn_stage1_model.keras\")\n",
    "\n",
    "# Freeze lower CNN layers, fine-tune top\n",
    "for layer in cnn_model.layers[:-3]:\n",
    "    layer.trainable = False\n",
    "\n",
    "spec_input = cnn_model.input\n",
    "x = cnn_model.layers[-3].output\n",
    "\n",
    "pros_input = layers.Input(shape=X_pros_train_scaled.shape[1:])\n",
    "y = layers.Dense(32, activation='relu', kernel_regularizer=regularizers.l2(1e-4))(pros_input)\n",
    "y = layers.Dropout(0.4)(y)\n",
    "y = layers.Dense(64, activation='relu', kernel_regularizer=regularizers.l2(1e-4))(y)\n",
    "y = layers.Dropout(0.4)(y)\n",
    "\n",
    "# Concatenate CNN + prosodic features\n",
    "combined = layers.concatenate([x, y])\n",
    "z = layers.Dense(64, activation='relu', kernel_regularizer=regularizers.l2(1e-4))(combined)\n",
    "z = layers.Dropout(0.5)(z)\n",
    "output = layers.Dense(num_classes, activation='softmax')(z)\n",
    "\n",
    "hybrid_model = models.Model(inputs=[spec_input, pros_input], outputs=output)\n",
    "hybrid_model.compile(optimizer=\"adam\", loss=\"categorical_crossentropy\", metrics=[\"accuracy\"])\n",
    "\n",
    "# Train Hybrid Model\n",
    "es = EarlyStopping(monitor=\"val_accuracy\", patience=5, restore_best_weights=True)\n",
    "rlr = ReduceLROnPlateau(monitor=\"val_loss\", factor=0.5, patience=3)\n",
    "mc = ModelCheckpoint(\"hybrid_ser_model.keras\", monitor=\"val_accuracy\", save_best_only=True, verbose=1)\n",
    "\n",
    "history = hybrid_model.fit(\n",
    "    [X_spec_train, X_pros_train_scaled], y_train_cat,\n",
    "    validation_data=([X_spec_val, X_pros_val_scaled], y_val_cat),\n",
    "    batch_size=32, epochs=50,\n",
    "    callbacks=[es, rlr, mc],\n",
    "     class_weight=class_weight_dict\n",
    ")"
   ]
  },
  {
   "cell_type": "code",
   "execution_count": null,
   "id": "4a53998f",
   "metadata": {},
   "outputs": [
    {
     "name": "stdout",
     "output_type": "stream",
     "text": [
      "\u001b[1m74/74\u001b[0m \u001b[32m━━━━━━━━━━━━━━━━━━━━\u001b[0m\u001b[37m\u001b[0m \u001b[1m37s\u001b[0m 493ms/step - accuracy: 0.7384 - loss: 0.7648\n",
      "Test Accuracy: 73.84%\n"
     ]
    }
   ],
   "source": [
    "# Evaluate\n",
    "test_loss, test_acc = hybrid_model.evaluate([X_spec_test, X_pros_test_scaled], y_test_cat)\n",
    "print(f\"Test Accuracy: {test_acc*100:.2f}%\")"
   ]
  },
  {
   "cell_type": "code",
   "execution_count": null,
   "id": "13fe560c",
   "metadata": {},
   "outputs": [
    {
     "name": "stdout",
     "output_type": "stream",
     "text": [
      "\u001b[1m74/74\u001b[0m \u001b[32m━━━━━━━━━━━━━━━━━━━━\u001b[0m\u001b[37m\u001b[0m \u001b[1m37s\u001b[0m 498ms/step\n"
     ]
    },
    {
     "data": {
      "image/png": "[encoded data removed]",
      "text/plain": [
       "<Figure size 800x600 with 2 Axes>"
      ]
     },
     "metadata": {},
     "output_type": "display_data"
    }
   ],
   "source": [
    "# Predict on test set\n",
    "y_pred = hybrid_model.predict([X_spec_test, X_pros_test_scaled])\n",
    "y_pred_labels = np.argmax(y_pred, axis=1)\n",
    "y_true_labels = np.argmax(y_test_cat, axis=1)\n",
    "\n",
    "# Confusion matrix\n",
    "cm = confusion_matrix(y_true_labels, y_pred_labels)\n",
    "plt.figure(figsize=(8,6))\n",
    "sns.heatmap(cm, annot=True, fmt='d', cmap='Blues',\n",
    "            xticklabels=le.classes_, yticklabels=le.classes_)\n",
    "plt.xlabel('Predicted')\n",
    "plt.ylabel('True')\n",
    "plt.title('Hybrid model Confusion Matrix')\n",
    "plt.show()"
   ]
  },
  {
   "cell_type": "code",
   "execution_count": 18,
   "id": "f4bac4c7",
   "metadata": {},
   "outputs": [
    {
     "name": "stdout",
     "output_type": "stream",
     "text": [
      "Hybrid Model Classification Report:\n",
      "              precision    recall  f1-score   support\n",
      "\n",
      "       angry       0.77      0.86      0.81       376\n",
      "     disgust       0.76      0.63      0.69       347\n",
      "        fear       0.74      0.65      0.69       368\n",
      "       happy       0.72      0.66      0.69       368\n",
      "     neutral       0.65      0.84      0.73       369\n",
      "         sad       0.71      0.69      0.70       366\n",
      "   surprised       0.96      0.99      0.97       149\n",
      "\n",
      "    accuracy                           0.74      2343\n",
      "   macro avg       0.76      0.76      0.76      2343\n",
      "weighted avg       0.74      0.74      0.74      2343\n",
      "\n"
     ]
    }
   ],
   "source": [
    "print(\"Hybrid Model Classification Report:\")\n",
    "print(classification_report(y_true_labels, y_pred_labels, target_names=le.classes_))"
   ]
  }
 ],
 "metadata": {
  "kernelspec": {
   "display_name": "audioenv",
   "language": "python",
   "name": "python3"
  },
  "language_info": {
   "codemirror_mode": {
    "name": "ipython",
    "version": 3
   },
   "file_extension": ".py",
   "mimetype": "text/x-python",
   "name": "python",
   "nbconvert_exporter": "python",
   "pygments_lexer": "ipython3",
   "version": "3.10.18"
  }
 },
 "nbformat": 4,
 "nbformat_minor": 5
}
